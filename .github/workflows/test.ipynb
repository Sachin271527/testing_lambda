{
 "cells": [
  {
   "cell_type": "code",
   "execution_count": 49,
   "id": "937df470",
   "metadata": {},
   "outputs": [],
   "source": [
    "a= [1.0,2.7, 3.3, 3.7, 4.1, 4.4, 4.7, 5.1, 5.5, 5.8, 6.1, 6.3, 6.6, 6.9, 7.2, 7.4, 7.7, 7.9, 8.2, 8.4, 8.6, 9.0, 9.0, 9.2, 9.5, 9.7, 9.9, 10.2, 10.5, 10.7, 11.0, 11.2, 11.4, 11.6, 11.8, 12.2, 12.9, 13.6, 14.4, 15.2, 16.4, 17.8, 19.0, 20.1, 21.3, 22.7, 24.5, 25.0]\n",
    "\n",
    "\n",
    "b = [0,0.0, 41.6, 78.4, 115.2, 162.6, 210.0, 283.8, 362.8, 436.6, 499.8, 568.3, 647.3, 715.8, 794.9, 879.2, 953.0, 1047.8, 1126.9, 1211.2, 1295.5, 1395.7, 1395.7, 1490.5, 1611.8, 1690.8, 1785.7, 1901.6, 2007.1, 2096.7, 2196.8, 2291.7, 2376.0, 2434.0, 2476.1, 2502.4, 2505.3, 2507.6, 2510.6, 2510.6, 2511.2, 2511.5, 2511.7, 2511.9, 2512.2, 2512.4, 2512.7,2512.9]\n",
    "\n",
    "\n",
    "\n"
   ]
  },
  {
   "cell_type": "code",
   "execution_count": 50,
   "metadata": {},
   "outputs": [
    {
     "data": {
      "text/plain": [
       "48"
      ]
     },
     "execution_count": 50,
     "metadata": {},
     "output_type": "execute_result"
    }
   ],
   "source": [
    "len(a)"
   ]
  },
  {
   "cell_type": "code",
   "execution_count": 51,
   "id": "fd7104d4",
   "metadata": {},
   "outputs": [
    {
     "data": {
      "text/plain": [
       "48"
      ]
     },
     "execution_count": 51,
     "metadata": {},
     "output_type": "execute_result"
    }
   ],
   "source": [
    "len(b)"
   ]
  },
  {
   "cell_type": "code",
   "execution_count": null,
   "id": "baa48103",
   "metadata": {},
   "outputs": [],
   "source": []
  }
 ],
 "metadata": {
  "kernelspec": {
   "display_name": "base",
   "language": "python",
   "name": "python3"
  },
  "language_info": {
   "codemirror_mode": {
    "name": "ipython",
    "version": 3
   },
   "file_extension": ".py",
   "mimetype": "text/x-python",
   "name": "python",
   "nbconvert_exporter": "python",
   "pygments_lexer": "ipython3",
   "version": "3.12.3"
  }
 },
 "nbformat": 4,
 "nbformat_minor": 5
}
